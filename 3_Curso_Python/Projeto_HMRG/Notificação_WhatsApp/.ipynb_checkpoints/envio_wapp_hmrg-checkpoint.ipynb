{
 "cells": [
  {
   "cell_type": "code",
   "execution_count": null,
   "id": "8db301f9",
   "metadata": {},
   "outputs": [],
   "source": [
    "## ACESSAR BASE DE DADOS\n",
    "\n",
    "import pandas as pd\n",
    "\n",
    "contatos_df = pd.read_excel(\"basededadosteste.xlsx\")\n",
    "display(contatos_df)"
   ]
  },
  {
   "cell_type": "code",
   "execution_count": 2,
   "id": "bb18f2d3",
   "metadata": {},
   "outputs": [
    {
     "name": "stdout",
     "output_type": "stream",
     "text": [
      "lendo base de dados...\n"
     ]
    },
    {
     "data": {
      "text/html": [
       "<div>\n",
       "<style scoped>\n",
       "    .dataframe tbody tr th:only-of-type {\n",
       "        vertical-align: middle;\n",
       "    }\n",
       "\n",
       "    .dataframe tbody tr th {\n",
       "        vertical-align: top;\n",
       "    }\n",
       "\n",
       "    .dataframe thead th {\n",
       "        text-align: right;\n",
       "    }\n",
       "</style>\n",
       "<table border=\"1\" class=\"dataframe\">\n",
       "  <thead>\n",
       "    <tr style=\"text-align: right;\">\n",
       "      <th></th>\n",
       "      <th>pessoa</th>\n",
       "      <th>número</th>\n",
       "      <th>mensagem</th>\n",
       "    </tr>\n",
       "  </thead>\n",
       "  <tbody>\n",
       "    <tr>\n",
       "      <th>0</th>\n",
       "      <td>Jennipher</td>\n",
       "      <td>5521980002500</td>\n",
       "      <td>Oii, amor tudo bom? To testando python</td>\n",
       "    </tr>\n",
       "    <tr>\n",
       "      <th>1</th>\n",
       "      <td>Anderson</td>\n",
       "      <td>5521979716722</td>\n",
       "      <td>Koe Cara, to testando uma automação em python,...</td>\n",
       "    </tr>\n",
       "    <tr>\n",
       "      <th>2</th>\n",
       "      <td>Eduardo</td>\n",
       "      <td>5521979687944</td>\n",
       "      <td>Testando mensagem.</td>\n",
       "    </tr>\n",
       "    <tr>\n",
       "      <th>3</th>\n",
       "      <td>Dani</td>\n",
       "      <td>5521993087947</td>\n",
       "      <td>Estou testando me confirma se chegou</td>\n",
       "    </tr>\n",
       "  </tbody>\n",
       "</table>\n",
       "</div>"
      ],
      "text/plain": [
       "      pessoa         número                                           mensagem\n",
       "0  Jennipher  5521980002500             Oii, amor tudo bom? To testando python\n",
       "1   Anderson  5521979716722  Koe Cara, to testando uma automação em python,...\n",
       "2    Eduardo  5521979687944                                 Testando mensagem.\n",
       "3       Dani  5521993087947               Estou testando me confirma se chegou"
      ]
     },
     "metadata": {},
     "output_type": "display_data"
    },
    {
     "name": "stdout",
     "output_type": "stream",
     "text": [
      "importado webdriver\n",
      "importado keys\n",
      "importado By\n",
      "abrindo link\n",
      "esperar 10 segundos\n",
      "abrindo link\n",
      "esperar 10 segundos\n",
      "abrindo link\n",
      "esperar 10 segundos\n",
      "abrindo link\n",
      "esperar 10 segundos\n"
     ]
    }
   ],
   "source": [
    "import pandas as pd\n",
    "contatos_df = pd.read_excel(\"basededadosteste.xlsx\")\n",
    "print('lendo base de dados...')\n",
    "display(contatos_df)\n",
    "from selenium import webdriver\n",
    "print('importado webdriver')\n",
    "from selenium.webdriver.common.keys import Keys\n",
    "print('importado keys')\n",
    "from selenium.webdriver.common.by import By\n",
    "print('importado By')\n",
    "import time\n",
    "import urllib\n",
    "navegador = webdriver.Chrome()\n",
    "\n",
    "#Já estamso com o login feito no wapp web\n",
    "for i, mensagem in enumerate(contatos_df['mensagem']):\n",
    "    pessoa= contatos_df.loc[i, \"pessoa\"]\n",
    "    numero= contatos_df.loc[i,\"número\"]\n",
    "    texto= urllib.parse.quote(f\"Oi {pessoa}! {mensagem}\")\n",
    "    link= f\"https://web.whatsapp.com/send?phone={numero}&text={texto}\"\n",
    "    navegador.get(link)\n",
    "    print('abrindo link')\n",
    "    time.sleep(30)\n",
    "    print('esperar 10 segundos')\n",
    "    while len(navegador.find_elements(By.ID,\"side\")) < 1:\n",
    "        time.sleep(1)\n",
    "        print(f'tentando logar no WAPP...{pessoa}')\n",
    "    navegador.find_element(By.XPATH,'//*[@id=\"main\"]/footer/div[1]/div/span[2]/div/div[2]/div[1]/div/div/p/span').send_keys(Keys.ENTER)\n",
    "    time.sleep(10)"
   ]
  },
  {
   "cell_type": "code",
   "execution_count": null,
   "id": "b78daed5",
   "metadata": {},
   "outputs": [],
   "source": []
  }
 ],
 "metadata": {
  "celltoolbar": "Edit Metadata",
  "kernelspec": {
   "display_name": "Python 3",
   "language": "python",
   "name": "python3"
  },
  "language_info": {
   "codemirror_mode": {
    "name": "ipython",
    "version": 3
   },
   "file_extension": ".py",
   "mimetype": "text/x-python",
   "name": "python",
   "nbconvert_exporter": "python",
   "pygments_lexer": "ipython3",
   "version": "3.8.8"
  }
 },
 "nbformat": 4,
 "nbformat_minor": 5
}
